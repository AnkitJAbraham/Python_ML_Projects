{
  "nbformat": 4,
  "nbformat_minor": 0,
  "metadata": {
    "colab": {
      "name": "dog_or_cat_prediction.ipynb",
      "provenance": [],
      "collapsed_sections": []
    },
    "kernelspec": {
      "display_name": "py3-TF2.0",
      "language": "python",
      "name": "py3-tf2.0"
    },
    "language_info": {
      "codemirror_mode": {
        "name": "ipython",
        "version": 3
      },
      "file_extension": ".py",
      "mimetype": "text/x-python",
      "name": "python",
      "nbconvert_exporter": "python",
      "pygments_lexer": "ipython3",
      "version": "3.7.6"
    },
    "accelerator": "GPU"
  },
  "cells": [
    {
      "cell_type": "markdown",
      "metadata": {
        "id": "view-in-github"
      },
      "source": [
        "<a href=\"https://colab.research.google.com/github/alankarartist/Dog-or-Cat-Prediction-using-CNN-Model/blob/master/dog_or_cat_prediction.ipynb\" target=\"_parent\"><img src=\"https://colab.research.google.com/assets/colab-badge.svg\" alt=\"Open In Colab\"/></a>"
      ]
    },
    {
      "cell_type": "code",
      "metadata": {
        "colab": {
          "base_uri": "https://localhost:8080/"
        },
        "id": "FaIMwJxWqPAV",
        "outputId": "fa40594a-1486-420d-83f0-ecb8dd940b5c"
      },
      "source": [
        "! git clone https://github.com/alokproc/Dog-or-Cat-Prediction-using-CNN-Model.git"
      ],
      "execution_count": null,
      "outputs": [
        {
          "output_type": "stream",
          "name": "stdout",
          "text": [
            "Cloning into 'Dog-or-Cat-Prediction-using-CNN-Model'...\n",
            "remote: Enumerating objects: 10024, done.\u001b[K\n",
            "remote: Counting objects: 100% (6/6), done.\u001b[K\n",
            "remote: Compressing objects: 100% (6/6), done.\u001b[K\n",
            "remote: Total 10024 (delta 1), reused 1 (delta 0), pack-reused 10018\u001b[K\n",
            "Receiving objects: 100% (10024/10024), 216.40 MiB | 27.79 MiB/s, done.\n",
            "Resolving deltas: 100% (4/4), done.\n",
            "Checking out files: 100% (10008/10008), done.\n"
          ]
        }
      ]
    },
    {
      "cell_type": "code",
      "metadata": {
        "colab": {
          "base_uri": "https://localhost:8080/"
        },
        "id": "SiAmdbaHqfYM",
        "outputId": "32d25784-3194-4fdc-adf8-04116498ed86"
      },
      "source": [
        "ls"
      ],
      "execution_count": null,
      "outputs": [
        {
          "output_type": "stream",
          "name": "stdout",
          "text": [
            "\u001b[0m\u001b[01;34mDog-or-Cat-Prediction-using-CNN-Model\u001b[0m/  \u001b[01;34msample_data\u001b[0m/\n"
          ]
        }
      ]
    },
    {
      "cell_type": "code",
      "metadata": {
        "colab": {
          "base_uri": "https://localhost:8080/"
        },
        "id": "Hx_tXkAhqmMZ",
        "outputId": "a128abfd-5e29-415e-9976-9c34888c245c"
      },
      "source": [
        "cd Dog-or-Cat-Prediction-using-CNN-Model"
      ],
      "execution_count": null,
      "outputs": [
        {
          "output_type": "stream",
          "name": "stdout",
          "text": [
            "[Errno 2] No such file or directory: 'Dog-or-Cat-Prediction-using-CNN-Model'\n",
            "/content/Dog-or-Cat-Prediction-using-CNN-Model\n"
          ]
        }
      ]
    },
    {
      "cell_type": "code",
      "metadata": {
        "colab": {
          "base_uri": "https://localhost:8080/"
        },
        "id": "uBu3q5knqx8Z",
        "outputId": "9ac2ffc7-1a5c-48c5-ca44-27478f007034"
      },
      "source": [
        "ls"
      ],
      "execution_count": null,
      "outputs": [
        {
          "output_type": "stream",
          "name": "stdout",
          "text": [
            "\u001b[0m\u001b[01;34mdataset\u001b[0m/  dog_or_cat_prediction.ipynb  README.md\n"
          ]
        }
      ]
    },
    {
      "cell_type": "markdown",
      "metadata": {
        "id": "3DR-eO17geWu"
      },
      "source": [
        "# Dog or Cat Prediction using CNN Model"
      ]
    },
    {
      "cell_type": "markdown",
      "metadata": {
        "id": "EMefrVPCg-60"
      },
      "source": [
        "### Importing the libraries"
      ]
    },
    {
      "cell_type": "code",
      "metadata": {
        "id": "sCV30xyVhFbE"
      },
      "source": [
        "import tensorflow as tf\n",
        "from keras.preprocessing.image import ImageDataGenerator\n",
        "from PIL import Image"
      ],
      "execution_count": null,
      "outputs": []
    },
    {
      "cell_type": "code",
      "metadata": {
        "id": "FIleuCAjoFD8",
        "colab": {
          "base_uri": "https://localhost:8080/",
          "height": 35
        },
        "outputId": "96ec64a7-b44a-497c-85f0-f82d116ce55d"
      },
      "source": [
        "tf.__version__"
      ],
      "execution_count": null,
      "outputs": [
        {
          "output_type": "execute_result",
          "data": {
            "application/vnd.google.colaboratory.intrinsic+json": {
              "type": "string"
            },
            "text/plain": [
              "'2.7.0'"
            ]
          },
          "metadata": {},
          "execution_count": 6
        }
      ]
    },
    {
      "cell_type": "markdown",
      "metadata": {
        "id": "oxQxCBWyoGPE"
      },
      "source": [
        "## Part 1 - Data Preprocessing"
      ]
    },
    {
      "cell_type": "markdown",
      "metadata": {
        "id": "MvE-heJNo3GG"
      },
      "source": [
        "### Preprocessing the Training set"
      ]
    },
    {
      "cell_type": "code",
      "metadata": {
        "id": "0koUcJMJpEBD",
        "colab": {
          "base_uri": "https://localhost:8080/"
        },
        "outputId": "ff23beaa-4b23-44e4-eb07-186d78c71b1c"
      },
      "source": [
        "train_datagen = ImageDataGenerator(rescale = 1./255,\n",
        "                                   shear_range = 0.2,\n",
        "                                   zoom_range = 0.2,\n",
        "                                   horizontal_flip = True)\n",
        "training_set = train_datagen.flow_from_directory('dataset/training_set',\n",
        "                                                 target_size = (64, 64),\n",
        "                                                 batch_size = 32,\n",
        "                                                 class_mode = 'binary')"
      ],
      "execution_count": null,
      "outputs": [
        {
          "output_type": "stream",
          "name": "stdout",
          "text": [
            "Found 8000 images belonging to 2 classes.\n"
          ]
        }
      ]
    },
    {
      "cell_type": "markdown",
      "metadata": {
        "id": "mrCMmGw9pHys"
      },
      "source": [
        "### Preprocessing the Test set"
      ]
    },
    {
      "cell_type": "code",
      "metadata": {
        "id": "SH4WzfOhpKc3",
        "colab": {
          "base_uri": "https://localhost:8080/"
        },
        "outputId": "dfae5575-1067-4cdf-ae20-127797565942"
      },
      "source": [
        "test_datagen = ImageDataGenerator(rescale = 1./255)\n",
        "test_set = test_datagen.flow_from_directory('dataset/test_set',\n",
        "                                            target_size = (64, 64),\n",
        "                                            batch_size = 32,\n",
        "                                            class_mode = 'binary')"
      ],
      "execution_count": null,
      "outputs": [
        {
          "output_type": "stream",
          "name": "stdout",
          "text": [
            "Found 2000 images belonging to 2 classes.\n"
          ]
        }
      ]
    },
    {
      "cell_type": "markdown",
      "metadata": {
        "id": "af8O4l90gk7B"
      },
      "source": [
        "## Part 2 - Building the CNN"
      ]
    },
    {
      "cell_type": "markdown",
      "metadata": {
        "id": "ces1gXY2lmoX"
      },
      "source": [
        "### Initialising the CNN"
      ]
    },
    {
      "cell_type": "code",
      "metadata": {
        "id": "SAUt4UMPlhLS"
      },
      "source": [
        "cnn = tf.keras.models.Sequential()"
      ],
      "execution_count": null,
      "outputs": []
    },
    {
      "cell_type": "markdown",
      "metadata": {
        "id": "u5YJj_XMl5LF"
      },
      "source": [
        "### Step 1 - Convolution"
      ]
    },
    {
      "cell_type": "code",
      "metadata": {
        "id": "XPzPrMckl-hV"
      },
      "source": [
        "cnn.add(tf.keras.layers.Conv2D(filters=32, kernel_size=3, activation='relu', input_shape=[64, 64, 3]))"
      ],
      "execution_count": null,
      "outputs": []
    },
    {
      "cell_type": "markdown",
      "metadata": {
        "id": "tf87FpvxmNOJ"
      },
      "source": [
        "### Step 2 - Pooling"
      ]
    },
    {
      "cell_type": "code",
      "metadata": {
        "id": "ncpqPl69mOac"
      },
      "source": [
        "cnn.add(tf.keras.layers.MaxPool2D(pool_size=2, strides=2))"
      ],
      "execution_count": null,
      "outputs": []
    },
    {
      "cell_type": "markdown",
      "metadata": {
        "id": "xaTOgD8rm4mU"
      },
      "source": [
        "### Adding a second convolutional layer"
      ]
    },
    {
      "cell_type": "code",
      "metadata": {
        "id": "i_-FZjn_m8gk"
      },
      "source": [
        "cnn.add(tf.keras.layers.Conv2D(filters=32, kernel_size=3, activation='relu'))\n",
        "cnn.add(tf.keras.layers.MaxPool2D(pool_size=2, strides=2))"
      ],
      "execution_count": null,
      "outputs": []
    },
    {
      "cell_type": "markdown",
      "metadata": {
        "id": "tmiEuvTunKfk"
      },
      "source": [
        "### Step 3 - Flattening"
      ]
    },
    {
      "cell_type": "code",
      "metadata": {
        "id": "6AZeOGCvnNZn"
      },
      "source": [
        "cnn.add(tf.keras.layers.Flatten())"
      ],
      "execution_count": null,
      "outputs": []
    },
    {
      "cell_type": "markdown",
      "metadata": {
        "id": "dAoSECOm203v"
      },
      "source": [
        "### Step 4 - Full Connection"
      ]
    },
    {
      "cell_type": "code",
      "metadata": {
        "id": "8GtmUlLd26Nq"
      },
      "source": [
        "cnn.add(tf.keras.layers.Dense(units=128, activation='relu'))"
      ],
      "execution_count": null,
      "outputs": []
    },
    {
      "cell_type": "markdown",
      "metadata": {
        "id": "yTldFvbX28Na"
      },
      "source": [
        "### Step 5 - Output Layer"
      ]
    },
    {
      "cell_type": "code",
      "metadata": {
        "id": "1p_Zj1Mc3Ko_"
      },
      "source": [
        "cnn.add(tf.keras.layers.Dense(units=1, activation='sigmoid'))"
      ],
      "execution_count": null,
      "outputs": []
    },
    {
      "cell_type": "markdown",
      "metadata": {
        "id": "D6XkI90snSDl"
      },
      "source": [
        "## Part 3 - Training the CNN"
      ]
    },
    {
      "cell_type": "markdown",
      "metadata": {
        "id": "vfrFQACEnc6i"
      },
      "source": [
        "### Compiling the CNN"
      ]
    },
    {
      "cell_type": "code",
      "metadata": {
        "id": "NALksrNQpUlJ"
      },
      "source": [
        "cnn.compile(optimizer = 'adam', loss = 'binary_crossentropy', metrics = ['accuracy'])"
      ],
      "execution_count": null,
      "outputs": []
    },
    {
      "cell_type": "markdown",
      "metadata": {
        "id": "ehS-v3MIpX2h"
      },
      "source": [
        "### Training the CNN on the Training set and evaluating it on the Test set"
      ]
    },
    {
      "cell_type": "code",
      "metadata": {
        "id": "XUj1W4PJptta",
        "colab": {
          "base_uri": "https://localhost:8080/"
        },
        "outputId": "dd5d35f3-6e8e-4c77-cbaf-8c67480c8da7"
      },
      "source": [
        "cnn.fit(x = training_set, validation_data = test_set, epochs = 25)"
      ],
      "execution_count": null,
      "outputs": [
        {
          "output_type": "stream",
          "name": "stdout",
          "text": [
            "Epoch 1/25\n",
            "250/250 [==============================] - 47s 153ms/step - loss: 0.6683 - accuracy: 0.5853 - val_loss: 0.6100 - val_accuracy: 0.6730\n",
            "Epoch 2/25\n",
            "250/250 [==============================] - 38s 152ms/step - loss: 0.5949 - accuracy: 0.6829 - val_loss: 0.5804 - val_accuracy: 0.6995\n",
            "Epoch 3/25\n",
            "250/250 [==============================] - 38s 152ms/step - loss: 0.5565 - accuracy: 0.7103 - val_loss: 0.5546 - val_accuracy: 0.7245\n",
            "Epoch 4/25\n",
            "250/250 [==============================] - 38s 151ms/step - loss: 0.5326 - accuracy: 0.7301 - val_loss: 0.5198 - val_accuracy: 0.7495\n",
            "Epoch 5/25\n",
            "250/250 [==============================] - 38s 151ms/step - loss: 0.5034 - accuracy: 0.7508 - val_loss: 0.5428 - val_accuracy: 0.7520\n",
            "Epoch 6/25\n",
            "250/250 [==============================] - 38s 153ms/step - loss: 0.4872 - accuracy: 0.7613 - val_loss: 0.4910 - val_accuracy: 0.7735\n",
            "Epoch 7/25\n",
            "250/250 [==============================] - 39s 154ms/step - loss: 0.4766 - accuracy: 0.7705 - val_loss: 0.5243 - val_accuracy: 0.7545\n",
            "Epoch 8/25\n",
            "250/250 [==============================] - 38s 154ms/step - loss: 0.4628 - accuracy: 0.7789 - val_loss: 0.5171 - val_accuracy: 0.7485\n",
            "Epoch 9/25\n",
            "250/250 [==============================] - 38s 154ms/step - loss: 0.4408 - accuracy: 0.7908 - val_loss: 0.5458 - val_accuracy: 0.7380\n",
            "Epoch 10/25\n",
            "250/250 [==============================] - 38s 153ms/step - loss: 0.4386 - accuracy: 0.7908 - val_loss: 0.5729 - val_accuracy: 0.7370\n",
            "Epoch 11/25\n",
            "250/250 [==============================] - 39s 154ms/step - loss: 0.4207 - accuracy: 0.8098 - val_loss: 0.4478 - val_accuracy: 0.8090\n",
            "Epoch 12/25\n",
            "250/250 [==============================] - 39s 155ms/step - loss: 0.4094 - accuracy: 0.8148 - val_loss: 0.4598 - val_accuracy: 0.7950\n",
            "Epoch 13/25\n",
            "250/250 [==============================] - 39s 155ms/step - loss: 0.4023 - accuracy: 0.8165 - val_loss: 0.4700 - val_accuracy: 0.7900\n",
            "Epoch 14/25\n",
            "250/250 [==============================] - 38s 154ms/step - loss: 0.3870 - accuracy: 0.8205 - val_loss: 0.4918 - val_accuracy: 0.7750\n",
            "Epoch 15/25\n",
            "250/250 [==============================] - 39s 154ms/step - loss: 0.3898 - accuracy: 0.8226 - val_loss: 0.4742 - val_accuracy: 0.7870\n",
            "Epoch 16/25\n",
            "250/250 [==============================] - 39s 155ms/step - loss: 0.3679 - accuracy: 0.8290 - val_loss: 0.4787 - val_accuracy: 0.7930\n",
            "Epoch 17/25\n",
            "250/250 [==============================] - 38s 154ms/step - loss: 0.3554 - accuracy: 0.8344 - val_loss: 0.4477 - val_accuracy: 0.8135\n",
            "Epoch 18/25\n",
            "250/250 [==============================] - 38s 154ms/step - loss: 0.3473 - accuracy: 0.8421 - val_loss: 0.4484 - val_accuracy: 0.8120\n",
            "Epoch 19/25\n",
            "250/250 [==============================] - 39s 154ms/step - loss: 0.3326 - accuracy: 0.8518 - val_loss: 0.5019 - val_accuracy: 0.7860\n",
            "Epoch 20/25\n",
            "250/250 [==============================] - 38s 154ms/step - loss: 0.3355 - accuracy: 0.8533 - val_loss: 0.4526 - val_accuracy: 0.8060\n",
            "Epoch 21/25\n",
            "250/250 [==============================] - 38s 152ms/step - loss: 0.3164 - accuracy: 0.8584 - val_loss: 0.5012 - val_accuracy: 0.7985\n",
            "Epoch 22/25\n",
            "250/250 [==============================] - 38s 151ms/step - loss: 0.3059 - accuracy: 0.8684 - val_loss: 0.4723 - val_accuracy: 0.8015\n",
            "Epoch 23/25\n",
            "250/250 [==============================] - 38s 151ms/step - loss: 0.2894 - accuracy: 0.8742 - val_loss: 0.5364 - val_accuracy: 0.7850\n",
            "Epoch 24/25\n",
            "250/250 [==============================] - 38s 151ms/step - loss: 0.2940 - accuracy: 0.8695 - val_loss: 0.5492 - val_accuracy: 0.7945\n",
            "Epoch 25/25\n",
            "250/250 [==============================] - 38s 152ms/step - loss: 0.2732 - accuracy: 0.8859 - val_loss: 0.4728 - val_accuracy: 0.8095\n"
          ]
        },
        {
          "output_type": "execute_result",
          "data": {
            "text/plain": [
              "<keras.callbacks.History at 0x7f401edd27d0>"
            ]
          },
          "metadata": {},
          "execution_count": 19
        }
      ]
    },
    {
      "cell_type": "markdown",
      "metadata": {
        "id": "U3PZasO0006Z"
      },
      "source": [
        "## Part 4 - Making a single prediction"
      ]
    },
    {
      "cell_type": "code",
      "metadata": {
        "id": "gsSiWEJY1BPB",
        "colab": {
          "base_uri": "https://localhost:8080/"
        },
        "outputId": "3a85bf22-2ded-4e99-8699-75c80f34c3ce"
      },
      "source": [
        "import numpy as np\n",
        "from keras.preprocessing import image\n",
        "test_image = image.load_img('dataset/single_prediction/cat_or_dog_1.jpg', target_size = (64, 64))\n",
        "test_image = image.img_to_array(test_image)\n",
        "test_image = np.expand_dims(test_image, axis = 0)\n",
        "result = cnn.predict(test_image)\n",
        "training_set.class_indices\n",
        "if result[0][0] == 1:\n",
        "  prediction = 'dog'\n",
        "else:\n",
        "  prediction = 'cat'\n",
        "print(prediction)"
      ],
      "execution_count": null,
      "outputs": [
        {
          "output_type": "stream",
          "name": "stdout",
          "text": [
            "dog\n"
          ]
        }
      ]
    },
    {
      "cell_type": "code",
      "metadata": {
        "id": "ED9KB3I54c1i",
        "colab": {
          "base_uri": "https://localhost:8080/"
        },
        "outputId": "345de080-4a56-4aad-b1b7-faeb5e5b00f2"
      },
      "source": [
        "print(prediction)"
      ],
      "execution_count": null,
      "outputs": [
        {
          "output_type": "stream",
          "name": "stdout",
          "text": [
            "dog\n"
          ]
        }
      ]
    },
    {
      "cell_type": "code",
      "source": [
        ""
      ],
      "metadata": {
        "id": "DTdoBToTBEr4"
      },
      "execution_count": null,
      "outputs": []
    }
  ]
}